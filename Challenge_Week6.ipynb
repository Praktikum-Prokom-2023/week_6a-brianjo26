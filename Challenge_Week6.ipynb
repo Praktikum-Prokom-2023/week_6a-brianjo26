{
 "cells": [
  {
   "attachments": {},
   "cell_type": "markdown",
   "metadata": {},
   "source": [
    "1. Diberikan list sebagai berikut\n",
    "    alph = [\"a\", \"b\", \"c\", \"d\"]\n",
    "    tampilkan isi dari list diatas secara terbalik menggunakan built-in function"
   ]
  },
  {
   "cell_type": "code",
   "execution_count": null,
   "metadata": {},
   "outputs": [],
   "source": [
    "alph = [\"a\", \"b\", \"c\", \"d\"]"
   ]
  },
  {
   "cell_type": "markdown",
   "metadata": {},
   "source": [
    "tampilkan isi dari list diatas secara terbalik menggunakan built-in function"
   ]
  },
  {
   "cell_type": "code",
   "execution_count": 9,
   "metadata": {},
   "outputs": [
    {
     "name": "stdout",
     "output_type": "stream",
     "text": [
      "['d', 'c', 'b', 'a']\n"
     ]
    }
   ],
   "source": [
    "alph = [\"a\", \"b\", \"c\", \"d\"]\n",
    "alph.sort()\n",
    "alph.reverse()\n",
    "print(alph)"
   ]
  },
  {
   "attachments": {},
   "cell_type": "markdown",
   "metadata": {},
   "source": [
    "2. Tulis sebuah fungsi yang menerima dua argumen dan mengembalikan true jika nilai pertama lebih besar dari yang kedua, false jika kurang dari atau sama dengan yang kedua."
   ]
  },
  {
   "cell_type": "code",
   "execution_count": 7,
   "metadata": {},
   "outputs": [
    {
     "name": "stdout",
     "output_type": "stream",
     "text": [
      "True\n"
     ]
    }
   ],
   "source": [
    "def hasil(angka1,angka2):\n",
    "    if angka1 > angka2:\n",
    "        return \"True\"\n",
    "    else:\n",
    "        return \"False\"\n",
    "\n",
    "a = int(input(\"Masukan angka pertama : \"))\n",
    "b = int(input(\"Masukan angka kedua : \"))\n",
    "print(hasil(a,b))"
   ]
  }
 ],
 "metadata": {
  "kernelspec": {
   "display_name": "Python 3",
   "language": "python",
   "name": "python3"
  },
  "language_info": {
   "codemirror_mode": {
    "name": "ipython",
    "version": 3
   },
   "file_extension": ".py",
   "mimetype": "text/x-python",
   "name": "python",
   "nbconvert_exporter": "python",
   "pygments_lexer": "ipython3",
   "version": "3.11.2"
  },
  "orig_nbformat": 4
 },
 "nbformat": 4,
 "nbformat_minor": 2
}
